{
 "cells": [
  {
   "cell_type": "code",
   "execution_count": 6,
   "id": "d2448a54",
   "metadata": {},
   "outputs": [
    {
     "name": "stdout",
     "output_type": "stream",
     "text": [
      "The largest element is: 10\n"
     ]
    }
   ],
   "source": [
    "def find_largest_element(lst):\n",
    "    return max(lst)\n",
    "\n",
    "my_list = [3, 7, 2, 10, 5]\n",
    "largest = find_largest_element(my_list)\n",
    "print(\"The largest element is:\", largest)\n"
   ]
  },
  {
   "cell_type": "code",
   "execution_count": 7,
   "id": "89a155e4",
   "metadata": {},
   "outputs": [
    {
     "name": "stdout",
     "output_type": "stream",
     "text": [
      "The area of the hexagon is: 64.9519052838329\n"
     ]
    }
   ],
   "source": [
    "import math\n",
    "\n",
    "def hexagon_area(side_length):\n",
    "    return (3 * math.sqrt(3) * (side_length ** 2)) / 2\n",
    "\n",
    "side = 5\n",
    "area = hexagon_area(side)\n",
    "print(\"The area of the hexagon is:\", area)\n"
   ]
  },
  {
   "cell_type": "code",
   "execution_count": 8,
   "id": "ea4eda43",
   "metadata": {},
   "outputs": [
    {
     "name": "stdout",
     "output_type": "stream",
     "text": [
      "Is the email address valid? True\n"
     ]
    }
   ],
   "source": [
    "import re\n",
    "\n",
    "def is_valid_email(email):\n",
    "    pattern = r\"^[a-zA-Z0-9][a-zA-Z0-9._%+-]{0,64}@[a-zA-Z0-9.-]+\\.[a-zA-Z]{2,}$\"\n",
    "    return True if re.match(pattern, email) and len(email) <= 256 else False\n",
    "\n",
    "email_address = \"example@email.com\"\n",
    "validity = is_valid_email(email_address)\n",
    "print(\"Is the email address valid?\", validity)\n"
   ]
  },
  {
   "cell_type": "code",
   "execution_count": 9,
   "id": "e37e0a46",
   "metadata": {},
   "outputs": [
    {
     "name": "stdout",
     "output_type": "stream",
     "text": [
      "Encrypted: Mjqqt, Btwqi!\n",
      "Decrypted: Hello, =orld!\n"
     ]
    }
   ],
   "source": [
    "def encrypt(text, shift):\n",
    "    encrypted_text = \"\"\n",
    "    for char in text:\n",
    "        if char.isalpha():\n",
    "            shifted = ord(char) + shift\n",
    "            if char.islower():\n",
    "                if shifted > ord('z'):\n",
    "                    shifted -= 26\n",
    "            elif char.isupper():\n",
    "                if shifted > ord('Z'):\n",
    "                    shifted -= 26\n",
    "            encrypted_text += chr(shifted)\n",
    "        else:\n",
    "            encrypted_text += char\n",
    "    return encrypted_text\n",
    "\n",
    "def decrypt(encrypted_text, shift):\n",
    "    return encrypt(encrypted_text, -shift)\n",
    "\n",
    "text = \"Hello, World!\"\n",
    "shift_amount = 5\n",
    "encrypted = encrypt(text, shift_amount)\n",
    "print(\"Encrypted:\", encrypted)\n",
    "decrypted = decrypt(encrypted, shift_amount)\n",
    "print(\"Decrypted:\", decrypted)\n"
   ]
  },
  {
   "cell_type": "code",
   "execution_count": 10,
   "id": "7adc05ed",
   "metadata": {},
   "outputs": [
    {
     "name": "stdout",
     "output_type": "stream",
     "text": [
      "Palindromes in the sentence: ['Madam', 'racecar']\n"
     ]
    }
   ],
   "source": [
    "def get_palindromes(s):\n",
    "    words = s.split()\n",
    "    palindromes = [word for word in words if word.lower() == word[::-1].lower()]\n",
    "    return palindromes\n",
    "\n",
    "sentence = \"Madam and racecar are palindromes\"\n",
    "palindrome_list = get_palindromes(sentence)\n",
    "print(\"Palindromes in the sentence:\", palindrome_list)\n"
   ]
  },
  {
   "cell_type": "code",
   "execution_count": 11,
   "id": "1691d3c6",
   "metadata": {},
   "outputs": [
    {
     "name": "stdout",
     "output_type": "stream",
     "text": [
      "John is 25 years old.\n"
     ]
    }
   ],
   "source": [
    "class BirthdayBoy:\n",
    "    def __init__(self, name, age):\n",
    "        self.name = name\n",
    "        self.age = age\n",
    "\n",
    "# Example usage:\n",
    "my_friend = BirthdayBoy(\"John\", 25)\n",
    "print(f\"{my_friend.name} is {my_friend.age} years old.\")\n"
   ]
  },
  {
   "cell_type": "code",
   "execution_count": 12,
   "id": "c6b7301e",
   "metadata": {},
   "outputs": [
    {
     "name": "stdout",
     "output_type": "stream",
     "text": [
      "Instances of Student and Marks classes exist.\n",
      "Student and Marks classes are subclasses of the built-in 'object' class.\n"
     ]
    }
   ],
   "source": [
    "class Student:\n",
    "    pass\n",
    "\n",
    "class Marks:\n",
    "    pass\n",
    "\n",
    "# Creating instances of the classes\n",
    "student_instance = Student()\n",
    "marks_instance = Marks()\n",
    "\n",
    "# Checking if instances exist\n",
    "if isinstance(student_instance, Student) and isinstance(marks_instance, Marks):\n",
    "    print(\"Instances of Student and Marks classes exist.\")\n",
    "else:\n",
    "    print(\"Instances of Student and Marks classes do not exist.\")\n",
    "\n",
    "# Checking if the classes are subclasses of the built-in 'object' class\n",
    "if issubclass(Student, object) and issubclass(Marks, object):\n",
    "    print(\"Student and Marks classes are subclasses of the built-in 'object' class.\")\n",
    "else:\n",
    "    print(\"Student and Marks classes are not subclasses of the built-in 'object' class.\")"
   ]
  },
  {
   "cell_type": "code",
   "execution_count": null,
   "id": "e364c7a9",
   "metadata": {},
   "outputs": [],
   "source": []
  }
 ],
 "metadata": {
  "kernelspec": {
   "display_name": "Python 3 (ipykernel)",
   "language": "python",
   "name": "python3"
  },
  "language_info": {
   "codemirror_mode": {
    "name": "ipython",
    "version": 3
   },
   "file_extension": ".py",
   "mimetype": "text/x-python",
   "name": "python",
   "nbconvert_exporter": "python",
   "pygments_lexer": "ipython3",
   "version": "3.9.12"
  }
 },
 "nbformat": 4,
 "nbformat_minor": 5
}
