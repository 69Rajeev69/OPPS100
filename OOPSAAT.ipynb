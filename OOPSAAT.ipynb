{
  "nbformat": 4,
  "nbformat_minor": 0,
  "metadata": {
    "colab": {
      "provenance": []
    },
    "kernelspec": {
      "name": "python3",
      "display_name": "Python 3"
    },
    "language_info": {
      "name": "python"
    }
  },
  "cells": [
    {
      "cell_type": "code",
      "execution_count": 2,
      "metadata": {
        "colab": {
          "base_uri": "https://localhost:8080/"
        },
        "id": "aPwmOGQqdhKy",
        "outputId": "23ac8ecb-325d-4775-e692-bf5b044f6aab"
      },
      "outputs": [
        {
          "output_type": "stream",
          "name": "stdout",
          "text": [
            "\n",
            "Processing Credit Card Payment:\n",
            "Processing credit card payment of $100 using card ending in 3456\n",
            "Displaying credit card payment details for card ending in 3456\n",
            "\n",
            "Processing PayPal Payment:\n",
            "Processing PayPal payment of $50 using account user@example.com\n",
            "Displaying PayPal payment details for account user@example.com\n"
          ]
        }
      ],
      "source": [
        "# Single Responsibility Principle (SRP)\n",
        "class PaymentGateway:\n",
        "    def process_payment(self, amount):\n",
        "        pass\n",
        "\n",
        "class CreditCardPaymentGateway(PaymentGateway):\n",
        "    def process_payment(self, amount, credit_card):\n",
        "        # Logic to process credit card payment\n",
        "        print(f\"Processing credit card payment of ${amount} using card ending in {credit_card.card_number[-4:]}\")\n",
        "\n",
        "class PayPalPaymentGateway(PaymentGateway):\n",
        "    def process_payment(self, amount, paypal_account):\n",
        "        # Logic to process PayPal payment\n",
        "        print(f\"Processing PayPal payment of ${amount} using account {paypal_account.email}\")\n",
        "\n",
        "# Open/Closed Principle (OCP)\n",
        "class PaymentProcessor:\n",
        "    def __init__(self, payment_gateway):\n",
        "        self.payment_gateway = payment_gateway\n",
        "\n",
        "    def process_payment(self, amount, payment_info):\n",
        "        self.payment_gateway.process_payment(amount, payment_info)\n",
        "\n",
        "# Liskov Substitution Principle (LSP)\n",
        "class PaymentInfo:\n",
        "    pass\n",
        "\n",
        "class CreditCardInfo(PaymentInfo):\n",
        "    def __init__(self, card_number, expiration_date, cvv):\n",
        "        self.card_number = card_number\n",
        "        self.expiration_date = expiration_date\n",
        "        self.cvv = cvv\n",
        "\n",
        "class PayPalInfo(PaymentInfo):\n",
        "    def __init__(self, email):\n",
        "        self.email = email\n",
        "\n",
        "# Interface Segregation Principle (ISP)\n",
        "class DisplayablePayment:\n",
        "    def display_payment(self):\n",
        "        pass\n",
        "\n",
        "class CreditCardPayment(DisplayablePayment):\n",
        "    def display_payment(self, credit_card):\n",
        "        print(f\"Displaying credit card payment details for card ending in {credit_card.card_number[-4:]}\")\n",
        "\n",
        "class PayPalPayment(DisplayablePayment):\n",
        "    def display_payment(self, paypal_account):\n",
        "        print(f\"Displaying PayPal payment details for account {paypal_account.email}\")\n",
        "\n",
        "# Dependency Inversion Principle (DIP)\n",
        "class PaymentApplication:\n",
        "    def __init__(self, payment_processor, displayable_payment):\n",
        "        self.payment_processor = payment_processor\n",
        "        self.displayable_payment = displayable_payment\n",
        "\n",
        "    def complete_payment(self, amount, payment_info):\n",
        "        self.payment_processor.process_payment(amount, payment_info)\n",
        "        self.displayable_payment.display_payment(payment_info)\n",
        "\n",
        "# Example usage\n",
        "credit_card_info = CreditCardInfo(\"1234-5678-9012-3456\", \"12/24\", \"123\")\n",
        "paypal_info = PayPalInfo(\"user@example.com\")\n",
        "\n",
        "credit_card_payment_gateway = CreditCardPaymentGateway()\n",
        "paypal_payment_gateway = PayPalPaymentGateway()\n",
        "\n",
        "credit_card_payment_processor = PaymentProcessor(credit_card_payment_gateway)\n",
        "paypal_payment_processor = PaymentProcessor(paypal_payment_gateway)\n",
        "\n",
        "credit_card_payment = CreditCardPayment()\n",
        "paypal_payment = PayPalPayment()\n",
        "\n",
        "credit_card_payment_app = PaymentApplication(credit_card_payment_processor, credit_card_payment)\n",
        "paypal_payment_app = PaymentApplication(paypal_payment_processor, paypal_payment)\n",
        "\n",
        "print(\"\\nProcessing Credit Card Payment:\")\n",
        "credit_card_payment_app.complete_payment(100, credit_card_info)\n",
        "\n",
        "print(\"\\nProcessing PayPal Payment:\")\n",
        "paypal_payment_app.complete_payment(50, paypal_info)\n"
      ]
    },
    {
      "cell_type": "code",
      "source": [],
      "metadata": {
        "id": "E5DjqHlrdjri"
      },
      "execution_count": null,
      "outputs": []
    }
  ]
}