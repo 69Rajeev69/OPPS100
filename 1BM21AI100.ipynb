{
 "cells": [
  {
   "cell_type": "code",
   "execution_count": 1,
   "id": "b2423660",
   "metadata": {},
   "outputs": [
    {
     "name": "stdout",
     "output_type": "stream",
     "text": [
      "The largest element is: 10\n"
     ]
    }
   ],
   "source": [
    "def find_largest_element(lst):\n",
    "    return max(lst)\n",
    "\n",
    "# Example usage:\n",
    "my_list = [3, 7, 2, 10, 5]\n",
    "largest = find_largest_element(my_list)\n",
    "print(\"The largest element is:\", largest)\n"
   ]
  },
  {
   "cell_type": "code",
   "execution_count": 2,
   "id": "ebb562ad",
   "metadata": {},
   "outputs": [
    {
     "name": "stdout",
     "output_type": "stream",
     "text": [
      "The area of the hexagon is: 64.9519052838329\n"
     ]
    }
   ],
   "source": [
    "import math\n",
    "\n",
    "def hexagon_area(side_length):\n",
    "    return (3 * math.sqrt(3) * (side_length ** 2)) / 2\n",
    "\n",
    "# Example usage:\n",
    "side = 5\n",
    "area = hexagon_area(side)\n",
    "print(\"The area of the hexagon is:\", area)\n"
   ]
  },
  {
   "cell_type": "code",
   "execution_count": 3,
   "id": "1a476fed",
   "metadata": {},
   "outputs": [
    {
     "name": "stdout",
     "output_type": "stream",
     "text": [
      "Is the email address valid? True\n"
     ]
    }
   ],
   "source": [
    "import re\n",
    "\n",
    "def is_valid_email(email):\n",
    "    pattern = r\"^[a-zA-Z0-9][a-zA-Z0-9._%+-]{0,64}@[a-zA-Z0-9.-]+\\.[a-zA-Z]{2,}$\"\n",
    "    return True if re.match(pattern, email) and len(email) <= 256 else False\n",
    "\n",
    "# Example usage:\n",
    "email_address = \"example@email.com\"\n",
    "validity = is_valid_email(email_address)\n",
    "print(\"Is the email address valid?\", validity)\n"
   ]
  },
  {
   "cell_type": "code",
   "execution_count": 4,
   "id": "b2dcd4c9",
   "metadata": {},
   "outputs": [
    {
     "name": "stdout",
     "output_type": "stream",
     "text": [
      "Encrypted: Mjqqt, Btwqi!\n",
      "Decrypted: Hello, =orld!\n"
     ]
    }
   ],
   "source": [
    "def encrypt(text, shift):\n",
    "    encrypted_text = \"\"\n",
    "    for char in text:\n",
    "        if char.isalpha():\n",
    "            shifted = ord(char) + shift\n",
    "            if char.islower():\n",
    "                if shifted > ord('z'):\n",
    "                    shifted -= 26\n",
    "            elif char.isupper():\n",
    "                if shifted > ord('Z'):\n",
    "                    shifted -= 26\n",
    "            encrypted_text += chr(shifted)\n",
    "        else:\n",
    "            encrypted_text += char\n",
    "    return encrypted_text\n",
    "\n",
    "def decrypt(encrypted_text, shift):\n",
    "    return encrypt(encrypted_text, -shift)\n",
    "\n",
    "# Example usage:\n",
    "text = \"Hello, World!\"\n",
    "shift_amount = 5\n",
    "encrypted = encrypt(text, shift_amount)\n",
    "print(\"Encrypted:\", encrypted)\n",
    "decrypted = decrypt(encrypted, shift_amount)\n",
    "print(\"Decrypted:\", decrypted)\n"
   ]
  },
  {
   "cell_type": "code",
   "execution_count": 5,
   "id": "9b0d74d4",
   "metadata": {},
   "outputs": [
    {
     "name": "stdout",
     "output_type": "stream",
     "text": [
      "Palindromes in the sentence: ['Madam', 'racecar']\n"
     ]
    }
   ],
   "source": [
    "def get_palindromes(s):\n",
    "    words = s.split()\n",
    "    palindromes = [word for word in words if word.lower() == word[::-1].lower()]\n",
    "    return palindromes\n",
    "\n",
    "# Example usage:\n",
    "sentence = \"Madam and racecar are palindromes\"\n",
    "palindrome_list = get_palindromes(sentence)\n",
    "print(\"Palindromes in the sentence:\", palindrome_list)\n"
   ]
  },
  {
   "cell_type": "code",
   "execution_count": null,
   "id": "e38ec0d6",
   "metadata": {},
   "outputs": [],
   "source": []
  }
 ],
 "metadata": {
  "kernelspec": {
   "display_name": "Python 3 (ipykernel)",
   "language": "python",
   "name": "python3"
  },
  "language_info": {
   "codemirror_mode": {
    "name": "ipython",
    "version": 3
   },
   "file_extension": ".py",
   "mimetype": "text/x-python",
   "name": "python",
   "nbconvert_exporter": "python",
   "pygments_lexer": "ipython3",
   "version": "3.9.12"
  }
 },
 "nbformat": 4,
 "nbformat_minor": 5
}
